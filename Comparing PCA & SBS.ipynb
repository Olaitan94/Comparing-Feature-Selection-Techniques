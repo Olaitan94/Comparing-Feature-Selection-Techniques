{
 "cells": [
  {
   "cell_type": "markdown",
   "id": "a33baada",
   "metadata": {},
   "source": [
    "#### SEP 786 PROJECT"
   ]
  },
  {
   "cell_type": "markdown",
   "id": "74102afd",
   "metadata": {},
   "source": [
    "#### Read the csv file into a pandas dataframe and then take a sample of 1200"
   ]
  },
  {
   "cell_type": "code",
   "execution_count": 39,
   "id": "1e38a9e2",
   "metadata": {},
   "outputs": [
    {
     "data": {
      "text/html": [
       "<div>\n",
       "<style scoped>\n",
       "    .dataframe tbody tr th:only-of-type {\n",
       "        vertical-align: middle;\n",
       "    }\n",
       "\n",
       "    .dataframe tbody tr th {\n",
       "        vertical-align: top;\n",
       "    }\n",
       "\n",
       "    .dataframe thead th {\n",
       "        text-align: right;\n",
       "    }\n",
       "</style>\n",
       "<table border=\"1\" class=\"dataframe\">\n",
       "  <thead>\n",
       "    <tr style=\"text-align: right;\">\n",
       "      <th></th>\n",
       "      <th>date</th>\n",
       "      <th>Temperature</th>\n",
       "      <th>Humidity</th>\n",
       "      <th>Light</th>\n",
       "      <th>CO2</th>\n",
       "      <th>HumidityRatio</th>\n",
       "      <th>Occupancy</th>\n",
       "    </tr>\n",
       "  </thead>\n",
       "  <tbody>\n",
       "    <tr>\n",
       "      <th>1</th>\n",
       "      <td>2015-02-04 17:51:00</td>\n",
       "      <td>23.18</td>\n",
       "      <td>27.2720</td>\n",
       "      <td>426.0</td>\n",
       "      <td>721.25</td>\n",
       "      <td>0.004793</td>\n",
       "      <td>1</td>\n",
       "    </tr>\n",
       "    <tr>\n",
       "      <th>2</th>\n",
       "      <td>2015-02-04 17:51:59</td>\n",
       "      <td>23.15</td>\n",
       "      <td>27.2675</td>\n",
       "      <td>429.5</td>\n",
       "      <td>714.00</td>\n",
       "      <td>0.004783</td>\n",
       "      <td>1</td>\n",
       "    </tr>\n",
       "    <tr>\n",
       "      <th>3</th>\n",
       "      <td>2015-02-04 17:53:00</td>\n",
       "      <td>23.15</td>\n",
       "      <td>27.2450</td>\n",
       "      <td>426.0</td>\n",
       "      <td>713.50</td>\n",
       "      <td>0.004779</td>\n",
       "      <td>1</td>\n",
       "    </tr>\n",
       "    <tr>\n",
       "      <th>4</th>\n",
       "      <td>2015-02-04 17:54:00</td>\n",
       "      <td>23.15</td>\n",
       "      <td>27.2000</td>\n",
       "      <td>426.0</td>\n",
       "      <td>708.25</td>\n",
       "      <td>0.004772</td>\n",
       "      <td>1</td>\n",
       "    </tr>\n",
       "    <tr>\n",
       "      <th>5</th>\n",
       "      <td>2015-02-04 17:55:00</td>\n",
       "      <td>23.10</td>\n",
       "      <td>27.2000</td>\n",
       "      <td>426.0</td>\n",
       "      <td>704.50</td>\n",
       "      <td>0.004757</td>\n",
       "      <td>1</td>\n",
       "    </tr>\n",
       "  </tbody>\n",
       "</table>\n",
       "</div>"
      ],
      "text/plain": [
       "                  date  Temperature  Humidity  Light     CO2  HumidityRatio  \\\n",
       "1  2015-02-04 17:51:00        23.18   27.2720  426.0  721.25       0.004793   \n",
       "2  2015-02-04 17:51:59        23.15   27.2675  429.5  714.00       0.004783   \n",
       "3  2015-02-04 17:53:00        23.15   27.2450  426.0  713.50       0.004779   \n",
       "4  2015-02-04 17:54:00        23.15   27.2000  426.0  708.25       0.004772   \n",
       "5  2015-02-04 17:55:00        23.10   27.2000  426.0  704.50       0.004757   \n",
       "\n",
       "   Occupancy  \n",
       "1          1  \n",
       "2          1  \n",
       "3          1  \n",
       "4          1  \n",
       "5          1  "
      ]
     },
     "execution_count": 39,
     "metadata": {},
     "output_type": "execute_result"
    }
   ],
   "source": [
    "import pandas as p\n",
    "import numpy as np\n",
    "from sklearn.linear_model import LogisticRegression\n",
    "import time\n",
    "from sklearn.model_selection import train_test_split\n",
    "from sklearn.metrics import roc_curve\n",
    "from sklearn.metrics import auc\n",
    "from sklearn.metrics import confusion_matrix\n",
    "from matplotlib import pyplot as plt\n",
    "\n",
    "\n",
    "data = pd.read_csv('datatraining.txt')\n",
    "data.head()"
   ]
  },
  {
   "cell_type": "code",
   "execution_count": 40,
   "id": "773bfd34",
   "metadata": {},
   "outputs": [
    {
     "data": {
      "text/html": [
       "<div>\n",
       "<style scoped>\n",
       "    .dataframe tbody tr th:only-of-type {\n",
       "        vertical-align: middle;\n",
       "    }\n",
       "\n",
       "    .dataframe tbody tr th {\n",
       "        vertical-align: top;\n",
       "    }\n",
       "\n",
       "    .dataframe thead th {\n",
       "        text-align: right;\n",
       "    }\n",
       "</style>\n",
       "<table border=\"1\" class=\"dataframe\">\n",
       "  <thead>\n",
       "    <tr style=\"text-align: right;\">\n",
       "      <th></th>\n",
       "      <th>Temperature</th>\n",
       "      <th>Humidity</th>\n",
       "      <th>Light</th>\n",
       "      <th>CO2</th>\n",
       "      <th>HumidityRatio</th>\n",
       "      <th>Occupancy</th>\n",
       "    </tr>\n",
       "  </thead>\n",
       "  <tbody>\n",
       "    <tr>\n",
       "      <th>1</th>\n",
       "      <td>23.18</td>\n",
       "      <td>27.2720</td>\n",
       "      <td>426.0</td>\n",
       "      <td>721.25</td>\n",
       "      <td>0.004793</td>\n",
       "      <td>1</td>\n",
       "    </tr>\n",
       "    <tr>\n",
       "      <th>2</th>\n",
       "      <td>23.15</td>\n",
       "      <td>27.2675</td>\n",
       "      <td>429.5</td>\n",
       "      <td>714.00</td>\n",
       "      <td>0.004783</td>\n",
       "      <td>1</td>\n",
       "    </tr>\n",
       "  </tbody>\n",
       "</table>\n",
       "</div>"
      ],
      "text/plain": [
       "   Temperature  Humidity  Light     CO2  HumidityRatio  Occupancy\n",
       "1        23.18   27.2720  426.0  721.25       0.004793          1\n",
       "2        23.15   27.2675  429.5  714.00       0.004783          1"
      ]
     },
     "execution_count": 40,
     "metadata": {},
     "output_type": "execute_result"
    }
   ],
   "source": [
    "#remove date\n",
    "data = data.drop('date', axis =1)\n",
    "data.head(2)\n",
    "\n"
   ]
  },
  {
   "cell_type": "code",
   "execution_count": 41,
   "id": "fb21515e",
   "metadata": {},
   "outputs": [
    {
     "data": {
      "text/plain": [
       "0    786\n",
       "1    214\n",
       "Name: Occupancy, dtype: int64"
      ]
     },
     "execution_count": 41,
     "metadata": {},
     "output_type": "execute_result"
    }
   ],
   "source": [
    "#Sample the full data set, take 1000 samples \n",
    "\n",
    "data = data.sample(1000,random_state = 1).reset_index(drop=True)\n",
    "\n",
    "#create a copy which will be used for SBS\n",
    "data_2 = data.copy()\n",
    "\n",
    "#check the distribution of labels in the sample\n",
    "data['Occupancy'].value_counts()"
   ]
  },
  {
   "cell_type": "markdown",
   "id": "dc181233",
   "metadata": {},
   "source": [
    "#### Scale Data"
   ]
  },
  {
   "cell_type": "code",
   "execution_count": 42,
   "id": "8f315158",
   "metadata": {},
   "outputs": [],
   "source": [
    "minim = data.min(axis = 0)\n",
    "maxim = data.max(axis = 0)\n",
    "\n",
    "data = (data - minim)/(maxim - minim)\n",
    "labels = data['Occupancy']"
   ]
  },
  {
   "cell_type": "markdown",
   "id": "a98064f1",
   "metadata": {},
   "source": [
    "##### Logistic Regression - PCA for dimensionality Reduction"
   ]
  },
  {
   "cell_type": "code",
   "execution_count": 43,
   "id": "f132b2af",
   "metadata": {},
   "outputs": [],
   "source": [
    "#substract the mean\n",
    "means = data.iloc[:,:5].mean()\n",
    "std_data = data.iloc[:,:5] - means"
   ]
  },
  {
   "cell_type": "code",
   "execution_count": 44,
   "id": "2a0bf315",
   "metadata": {},
   "outputs": [
    {
     "data": {
      "text/plain": [
       "array([1.29181879e+02, 8.24495660e+01, 1.27969294e+01, 4.44887160e-02,\n",
       "       6.54902121e+00])"
      ]
     },
     "execution_count": 44,
     "metadata": {},
     "output_type": "execute_result"
    }
   ],
   "source": [
    "#compute the eigen vectors and their corresponding eigen values \n",
    "eigen_values, eigen_vectors = np.linalg.eig(np.dot(std_data.T, std_data))\n",
    "eigen_values"
   ]
  },
  {
   "cell_type": "code",
   "execution_count": 45,
   "id": "59807807",
   "metadata": {},
   "outputs": [
    {
     "data": {
      "text/plain": [
       "array([[-0.2318063 ,  0.78153985, -0.55254521, -0.17335323,  0.0101859 ],\n",
       "       [-0.59851974, -0.42626109, -0.15188916, -0.64562188, -0.14204811],\n",
       "       [-0.17431552,  0.30077983,  0.47450671,  0.02919195, -0.8081688 ],\n",
       "       [-0.43566084,  0.29367491,  0.62852061, -0.06329516,  0.57000898],\n",
       "       [-0.60650943, -0.17545224, -0.22677896,  0.74044756, -0.04088443]])"
      ]
     },
     "execution_count": 45,
     "metadata": {},
     "output_type": "execute_result"
    }
   ],
   "source": [
    "eigen_vectors"
   ]
  },
  {
   "cell_type": "code",
   "execution_count": 46,
   "id": "946d7d80",
   "metadata": {},
   "outputs": [],
   "source": [
    "#get the index of the eigen values in decreasing order\n",
    "sorted_indices = np.argsort(eigen_values)[::-1]\n",
    "sorted_eigenvalue = eigen_values[sorted_indices]\n",
    "sorted_eigenvectors = eigen_vectors[:,sorted_indices]"
   ]
  },
  {
   "cell_type": "code",
   "execution_count": 47,
   "id": "f5985d0c",
   "metadata": {},
   "outputs": [
    {
     "data": {
      "image/png": "[encoded data removed]",
      "text/plain": [
       "<Figure size 432x288 with 1 Axes>"
      ]
     },
     "metadata": {
      "needs_background": "light"
     },
     "output_type": "display_data"
    }
   ],
   "source": [
    "k=5\n",
    "while k >= 2:\n",
    "    k_str = str(k) + ' dimensions'\n",
    "    #recast the data along the principal components\n",
    "    new_data = np.dot(std_data,sorted_eigenvectors[:,:k])\n",
    "    #split data into training and testing set ( 75% for training and 25% for testing)\n",
    "    x_train,x_test,y_train,y_test = train_test_split(new_data,labels,test_size = 0.25, random_state = 10)\n",
    "    lr = LogisticRegression()\n",
    "    lr.fit(x_train,y_train)\n",
    "    predicted_labels = lr.predict(x_test)\n",
    "    #find scores which will be used for roc curve\n",
    "    lr_scores_pca = lr.predict_proba(x_test) \n",
    "    #find tpr & fpr \n",
    "    fpr_pca, tpr_pca, threshold = roc_curve(y_test, lr_scores_pca[:, 1])\n",
    "    roc_auc = auc(fpr_pca, tpr_pca)\n",
    "    plt.plot(fpr_pca, tpr_pca, label = k_str + ' - AUC = %0.2f' % roc_auc)\n",
    "    k = k - 1 \n",
    "plt.plot([0, 1], [0, 1],'r--', label = 'Random Chance')\n",
    "plt.title('PCA ROC Curve')\n",
    "plt.legend(loc = 'lower right')\n",
    "plt.xlim([0, 1.02])\n",
    "plt.ylim([0, 1.02])\n",
    "plt.ylabel('True Positive Rate')\n",
    "plt.xlabel('False Positive Rate')\n",
    "plt.show()"
   ]
  },
  {
   "cell_type": "markdown",
   "id": "c83f3c62",
   "metadata": {},
   "source": [
    "##### Logistic Regression - Backward Search Algorithm for dimensionality reduction"
   ]
  },
  {
   "cell_type": "code",
   "execution_count": 51,
   "id": "02c8cf83",
   "metadata": {},
   "outputs": [
    {
     "data": {
      "image/png": "[encoded data removed]",
      "text/plain": [
       "<Figure size 432x288 with 1 Axes>"
      ]
     },
     "metadata": {
      "needs_background": "light"
     },
     "output_type": "display_data"
    }
   ],
   "source": [
    "x_train,x_test,y_train,y_test = train_test_split(std_data,labels,test_size = 0.25, random_state = 10)\n",
    "\n",
    "\n",
    "for k in range(5,1,-1):\n",
    "    k_str = str(k) + ' dimensions'\n",
    "    if k == 5:\n",
    "        lr_sb = LogisticRegression()\n",
    "        lr_sb.fit(x_train,y_train)\n",
    "        prediction = lr_sb.predict(x_test)\n",
    "        #find scores which will be used for roc curve\n",
    "        lr_scores_sbs = lr_sb.predict_proba(x_test)\n",
    "        #find tpr & fpr \n",
    "        fpr_sbs, tpr_sbs, threshold = roc_curve(y_test, lr_scores_sbs[:, 1])\n",
    "        #find the area under the curve\n",
    "        roc_auc = auc(fpr_sbs, tpr_sbs)\n",
    "        #plot the roc curve\n",
    "        plt.plot(fpr_sbs, tpr_sbs, label = k_str + ' - AUC = %0.2f' % roc_auc)\n",
    "    else:\n",
    "        #create a list to save the errors obtained wen eac of the features are removed\n",
    "        errors_per_col_index_removed = []\n",
    "        #find the no of columns\n",
    "        cols = x_train.shape[1]\n",
    "        #loop through each of the columns, for each loop,drop the column and find the resulting error\n",
    "        for i in range(cols):\n",
    "            fit_data = x_train.drop(x_train.columns[i],axis = 1)\n",
    "            test_data = x_test.drop(x_test.columns[i],axis = 1)\n",
    "            lr_sb = LogisticRegression()\n",
    "            lr_sb.fit(fit_data,y_train)\n",
    "            predicted_labels = lr_sb.predict(test_data)\n",
    "            error = sum(abs(predicted_labels - y_test))\n",
    "            errors_per_col_index_removed.append(error)\n",
    "        #find the col index with the lowest error when removed\n",
    "        worst_index = errors_per_col_index_removed.index(min(errors_per_col_index_removed))\n",
    "        #remove the worst feature\n",
    "        x_train = x_train.drop(x_train.columns[worst_index],axis = 1)\n",
    "        x_test = x_test.drop(x_test.columns[worst_index],axis = 1)\n",
    "        lr_sb = LogisticRegression()\n",
    "        lr_sb.fit(x_train,y_train)\n",
    "        prediction = lr_sb.predict(x_test)\n",
    "        #find scores which will be used for roc curve\n",
    "        lr_scores_sbs = lr_sb.predict_proba(x_test) \n",
    "        #find tpr & fpr \n",
    "        fpr_sbs, tpr_sbs, threshold = roc_curve(y_test, lr_scores_sbs[:, 1])\n",
    "        #find the area under the curve\n",
    "        roc_auc = auc(fpr_sbs, tpr_sbs)\n",
    "        #plot the roc curve\n",
    "        plt.plot(fpr_sbs, tpr_sbs, label = k_str + ' - AUC = %0.2f' % roc_auc)\n",
    "\n",
    "        #k = k-1\n",
    "plt.plot([0, 1], [0, 1],'r--', label = 'Random Chance')\n",
    "plt.title('SBS ROC Curve')\n",
    "plt.legend(loc = 'lower right')\n",
    "plt.xlim([0, 1.02])\n",
    "plt.ylim([0, 1.02])\n",
    "plt.ylabel('True Positive Rate')\n",
    "plt.xlabel('False Positive Rate')\n",
    "plt.show()\n",
    "        \n",
    "\n",
    "\n"
   ]
  },
  {
   "cell_type": "markdown",
   "id": "81596617",
   "metadata": {},
   "source": [
    "Comparing both ROC curves, We can see that the performance of the model reduced when the dimesionality was reduced to 2 with PCA while the performance remained pretty much the same when the dimensions were reduced with the sequential backward search algorithm.\n",
    "\n",
    "We can infer from this experiment, that Sequential backward search algorithm gives better results. However, since the computational time for the sbs algorithm is way more than that of PCA, there might be a tradeoff between performance &amp; computational time."
   ]
  },
  {
   "cell_type": "code",
   "execution_count": null,
   "id": "56241f98",
   "metadata": {},
   "outputs": [],
   "source": []
  }
 ],
 "metadata": {
  "kernelspec": {
   "display_name": "Python 3 (ipykernel)",
   "language": "python",
   "name": "python3"
  },
  "language_info": {
   "codemirror_mode": {
    "name": "ipython",
    "version": 3
   },
   "file_extension": ".py",
   "mimetype": "text/x-python",
   "name": "python",
   "nbconvert_exporter": "python",
   "pygments_lexer": "ipython3",
   "version": "3.9.7"
  }
 },
 "nbformat": 4,
 "nbformat_minor": 5
}
